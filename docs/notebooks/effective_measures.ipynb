{
 "cells": [
  {
   "cell_type": "markdown",
   "metadata": {},
   "source": [
    "# Effective countermeasures against a group of interest\n",
    "\n",
    "This notebook is intended to demonstrate potential uses of SATRAP for the investigation of CTI.\n",
    "\n",
    "## Preliminaries\n",
    "\n",
    "The data model of SATRAP is aligned to STIX 2.1, therefore, in the analysis we use the STIX2.1 vocabulary.\n",
    "We also make use of concepts in the MITRE ATT&CK knowledge base.\n",
    "\n",
    "The specifications of [ATT&CK in STIX 2.1](https://github.com/mitre-attack/attack-stix-data/blob/master/USAGE.md#the-attck-spec) describe the representation of the following ATT&CK concepts with STIX objects:\n",
    "\n",
    "- Group: `intrusion-set`\n",
    "- Mitigation: `course-of-action`\n",
    "- Technique: `attack-pattern`\n",
    "\n",
    "## Introduction\n",
    "\n",
    "The **objective** of this investigation is to identify effective mitigations against techniques used by a specific group of interest.\n",
    "\n",
    "In this example we assume that the interested organization is a Hospital in Luxembourg. Then, we define the following questions.\n",
    "\n",
    "### Analysis questions\n",
    "1. Is the intrusion set \"Orangeworm\" a potential threat for the organization?\n",
    "2. In such a case, can we identify relevant courses of action to effectively mitigate the threat?\n"
   ]
  },
  {
   "cell_type": "markdown",
   "metadata": {},
   "source": [
    "## Prerequisites\n",
    "Load MITRE ATT&CK Enterprise using the ETL CLI of SATRAP as explained in the user manual (at `docs/manual/interfaces.md`).\n",
    "\n",
    "## Preparation\n",
    "Set up the DB parameters and import the toolkit of SATRAP."
   ]
  },
  {
   "cell_type": "code",
   "execution_count": null,
   "metadata": {},
   "outputs": [],
   "source": [
    "from satrap.service.satrap_analysis import CTIanalysisToolbox\n",
    "from satrap.settings import TYPEDB_SERVER_ADDRESS, DB_NAME\n",
    "\n",
    "satrap = CTIanalysisToolbox(TYPEDB_SERVER_ADDRESS, DB_NAME)"
   ]
  },
  {
   "cell_type": "markdown",
   "metadata": {},
   "source": [
    "## Investigation\n",
    "First, we do a quick search of [Orangeworm in ATT&CK](https://attack.mitre.org/groups/G0071/) to get an overview of the intrusion set. \n",
    "\n",
    "Highlights:\n",
    "- Orangeworm has targeted the healthcare sector in the United States, Europe, and Asia since at least 2015.\n",
    "- ID of Orangeworm in ATT&CK: `G0071`.\n",
    "\n",
    "**Answer 1:** We realize that G0071 poses indeed a potential risk for the hospital and thus further investigation is required.\n",
    "\n",
    "From now on, we can use the ID of Orangeworm to run some automated analysis operations."
   ]
  },
  {
   "cell_type": "markdown",
   "metadata": {},
   "source": [
    "### General information of Orangeworm\n",
    "\n",
    "We start by getting an overview of the group in our CTI SKB."
   ]
  },
  {
   "cell_type": "code",
   "execution_count": null,
   "metadata": {},
   "outputs": [],
   "source": [
    "try:\n",
    "\tt1 = satrap.get_attck_concept_info(\"G0071\")\n",
    "\tprint(\"Group: G0071\")\n",
    "\tfor data in t1:\n",
    "\t\tprint(CTIanalysisToolbox.tabulate_stix_obj(data))\n",
    "except Exception as error:\n",
    "\tprint(f\"{type(error).__name__}: {error}\")"
   ]
  },
  {
   "cell_type": "markdown",
   "metadata": {},
   "source": [
    "### What techniques does \"G0071\" use?\n",
    "\n",
    "To evaluate potential vulnerabilities, we try to get information concerning the techniques used by Orangeworm."
   ]
  },
  {
   "cell_type": "code",
   "execution_count": null,
   "metadata": {},
   "outputs": [],
   "source": [
    "techniques = satrap.techniques_used_by_group(\"G0071\")\n",
    "display(techniques)"
   ]
  },
  {
   "cell_type": "markdown",
   "metadata": {},
   "source": [
    "We already knew about those techniques as they are directly listed in the previous ATT&CK link. So, we try to learn something more by activating the inference engine of SATRAP."
   ]
  },
  {
   "cell_type": "code",
   "execution_count": null,
   "metadata": {},
   "outputs": [],
   "source": [
    "techniques = satrap.techniques_used_by_group(\"G0071\", infer=True)\n",
    "display(techniques)"
   ]
  },
  {
   "cell_type": "markdown",
   "metadata": {},
   "source": [
    "SATRAP has indeed shown a larger list of techniques. And evidently we would like to find out the reason for these techniques to be associated with Orangeworm."
   ]
  },
  {
   "cell_type": "markdown",
   "metadata": {},
   "source": [
    "### Analyzing the association of techniques"
   ]
  },
  {
   "cell_type": "markdown",
   "metadata": {},
   "source": [
    "SATRAP can provide the explanation for all the techniques displayed in one go, however, we decide to go one by one to simplify the analysis and to prioritize the techniques that we consider more likely to be potential threats to our organization.\n",
    "\n",
    "For instance, we might be intrigued about why the technique $\\mathsf{\"Windows\\ Command\\ Shell\"}$ forms part of the list above, assuming that the organization's systems run primarily on Windows OS."
   ]
  },
  {
   "cell_type": "code",
   "execution_count": null,
   "metadata": {},
   "outputs": [],
   "source": [
    "# explain all techniques\n",
    "# reason = satrap.explain_techniques_used_by_group(\"G0071\")\n",
    "reason = satrap.explain_techniques_used_by_group(\"G0071\", \"Windows Command Shell\")\n",
    "for tech in reason.explanations:\n",
    "\tprint(CTIanalysisToolbox.format_dict(tech.as_json()), end=\"\\n\")"
   ]
  },
  {
   "cell_type": "code",
   "execution_count": null,
   "metadata": {},
   "outputs": [],
   "source": [
    "import resources.ipynb_utils as utils\n",
    "utils.info_explanation()"
   ]
  },
  {
   "cell_type": "markdown",
   "metadata": {},
   "source": [
    "As per the note above, the explanation output can be interpreted as follows:\n",
    "- The application of the inference rule called \"transitive-use\" resulted in the derivation of data satisfying the statement `{ $use (used:$technique, user:$group); $use isa uses; }` from the underlying query.\n",
    "- 'Orangeworm uses cmd' and 'cmd uses Windows Command Shell' are relations in the CTI SKB that meet the conditions for the application of \"transitive-use\".\n",
    "- The relation 'Orangeworm indirectly-uses Windows Command Shell' is derived as a result of applying the referred rule.\n"
   ]
  },
  {
   "cell_type": "markdown",
   "metadata": {},
   "source": [
    "### Mitigating \"Windows command shell\"\n",
    "\n",
    "Using the information that Orangeworm uses the technique \"Windows Command Shell\" via the tool \"cmd\", we first verify that \"cmd\" refers to the Windows CLI and then search for mititgations for this technique in SATRAP's knowledge base. To run the concerning SATRAP functions, we obtain the STIX ids from the explanation shown above."
   ]
  },
  {
   "cell_type": "code",
   "execution_count": null,
   "metadata": {},
   "outputs": [],
   "source": [
    "cmd = satrap.search_stix_object(\"tool--bba595da-b73a-4354-aa6c-224d4de7cb4e\")\n",
    "if cmd:\n",
    "\tprint(CTIanalysisToolbox.tabulate_stix_obj(cmd))"
   ]
  },
  {
   "cell_type": "code",
   "execution_count": null,
   "metadata": {},
   "outputs": [],
   "source": [
    "mitigations = satrap.mitigations_for_technique(\"attack-pattern--d1fcf083-a721-4223-aedf-bf8960798d62\")\n",
    "display(mitigations)"
   ]
  },
  {
   "cell_type": "markdown",
   "metadata": {},
   "source": [
    "At this point, we have identified a suggested course of action (detailed below) to address a specific threat posed by the group that we consider relevant.\n",
    "\n",
    "**Answer 2 (partial):** 'course-of-action--47e0e9fe-96ce-4f65-8bb1-8be1feacb5db': 'Execution Prevention'\n"
   ]
  },
  {
   "cell_type": "code",
   "execution_count": null,
   "metadata": {},
   "outputs": [],
   "source": [
    "mitigation = satrap.search_stix_object(\"course-of-action--47e0e9fe-96ce-4f65-8bb1-8be1feacb5db\")\n",
    "if mitigation:\n",
    "\tprint(CTIanalysisToolbox.tabulate_stix_obj(mitigation))"
   ]
  },
  {
   "cell_type": "markdown",
   "metadata": {},
   "source": [
    "#### Why is \"Domain Groups\" listed as a technique used by Orangeworm?"
   ]
  },
  {
   "cell_type": "markdown",
   "metadata": {},
   "source": [
    "More than one explanation path can lead to the association of a technique with a group, as in the case of $\\mathsf{Domain\\ Groups}$ for Orangeworm."
   ]
  },
  {
   "cell_type": "code",
   "execution_count": null,
   "metadata": {},
   "outputs": [],
   "source": [
    "dg_explanation = satrap.explain_techniques_used_by_group(\"G0071\", \"Domain Groups\")\n",
    "for tech in dg_explanation.explanations:\n",
    "\tprint(CTIanalysisToolbox.format_dict(tech.as_json()), end=\"\\n\")"
   ]
  },
  {
   "cell_type": "markdown",
   "metadata": {},
   "source": [
    "For cases with multiple explanations, the textual explanation can be further clarified using the interactive Graph viewer of TypeDB Studio as explained in the [... section]() of SATRAP's user manual.\n",
    "\n",
    "We can obtain the query to execute in TypeDB Studio from the explanation result above:"
   ]
  },
  {
   "cell_type": "code",
   "execution_count": null,
   "metadata": {},
   "outputs": [],
   "source": [
    "print(dg_explanation.query)"
   ]
  },
  {
   "cell_type": "markdown",
   "metadata": {},
   "source": [
    "The next figure shows the explanation paths in TypeDB Studio detailing why \"Domain Gropus\" is a technique used by \"G0071\"; the relation \"indirectly-uses\" framed in green corresponds to the inferred relation. These paths correspond to the textual explanations previously displayed.\n",
    "\n",
    "<p align=\"center\">\n",
    "\t<img src=\"./resources/figs/tech-g0071-paths.png\" alt=\"Explanation traces in TypeDB Studio\" width=\"90%\">\n",
    "</p>"
   ]
  },
  {
   "cell_type": "markdown",
   "metadata": {},
   "source": [
    "In this graph, we can clearly see that the conclusion about the intrusion set \"Orangeworm\" using the attack pattern \"Domain Groups\" comes from the fact that it relies on the use of both, a tool called \"Net\" and the malware-family \"Kwampirs\", each of which in turn make use of \"Domain Groups\". "
   ]
  },
  {
   "cell_type": "markdown",
   "metadata": {},
   "source": [
    "### Which known mitigations are potentially relevant against \"G0071\"?\n",
    "\n",
    "Finally, to address more generally the initial analysis question 2, we are interested in identifying a set of mitigations that can be associated with Orangeworm because they address one of more of the techniques used by this group. This can be achieved as follows:"
   ]
  },
  {
   "cell_type": "code",
   "execution_count": null,
   "metadata": {},
   "outputs": [],
   "source": [
    "display(satrap.related_mitigations(group_name=\"Orangeworm\"))"
   ]
  },
  {
   "cell_type": "markdown",
   "metadata": {},
   "source": [
    "As before, we can get an explanation for why each of the listed mitigations are related to Orangeworm. For instance, we select to get an explanation for \"Restrict File and Directory Permissions\"."
   ]
  },
  {
   "cell_type": "code",
   "execution_count": null,
   "metadata": {},
   "outputs": [],
   "source": [
    "try:\n",
    "\trel_explanation = satrap.explain_if_related_mitigation(\"G0071\", \"course-of-action--987988f0-cf86-4680-a875-2f6456ab2448\")\n",
    "\tprint(f\"EXECUTED QUERY:\\n{rel_explanation.query}\\n\")\n",
    "\tprint(\"EXPLANATIONS:\")\n",
    "\tfor tech in rel_explanation.explanations:\n",
    "\t\tprint(CTIanalysisToolbox.format_dict(tech.as_json()), end=\"\\n\")\n",
    "except ValueError as err:\n",
    "\tprint(err)"
   ]
  },
  {
   "cell_type": "markdown",
   "metadata": {},
   "source": [
    "And again, we can run the printed query in TypeDB Studio to visualize an interactive explanation."
   ]
  }
 ],
 "metadata": {
  "kernelspec": {
   "display_name": "satrap-e-0finHA-py3.11",
   "language": "python",
   "name": "python3"
  },
  "language_info": {
   "codemirror_mode": {
    "name": "ipython",
    "version": 3
   },
   "file_extension": ".py",
   "mimetype": "text/x-python",
   "name": "python",
   "nbconvert_exporter": "python",
   "pygments_lexer": "ipython3",
   "version": "3.11.0"
  }
 },
 "nbformat": 4,
 "nbformat_minor": 2
}
