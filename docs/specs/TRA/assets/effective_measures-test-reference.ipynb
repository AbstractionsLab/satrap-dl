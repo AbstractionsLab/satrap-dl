{
 "cells": [
  {
   "cell_type": "markdown",
   "metadata": {},
   "source": [
    "# Effective countermeasures against a group of interest\n",
    "\n",
    "This notebook is intended to demonstrate potential uses of SATRAP for the investigation of CTI.\n",
    "\n",
    "## Preliminaries\n",
    "\n",
    "The data model of SATRAP is aligned to STIX 2.1, therefore, in the analysis we use the STIX2.1 vocabulary.\n",
    "We also make use of concepts in the MITRE ATT&CK knowledge base.\n",
    "\n",
    "The specifications of [ATT&CK in STIX 2.1](https://github.com/mitre-attack/attack-stix-data/blob/master/USAGE.md#the-attck-spec) describe the representation of the following ATT&CK concepts with STIX objects:\n",
    "\n",
    "- Group: `intrusion-set`\n",
    "- Mitigation: `course-of-action`\n",
    "- Technique: `attack-pattern`\n",
    "\n",
    "## Introduction\n",
    "\n",
    "The **objective** of this investigation is to identify effective mitigations against techniques used by a specific group of interest.\n",
    "\n",
    "In this example we assume that the interested organization is a Hospital in Luxembourg. Then, we define the following questions.\n",
    "\n",
    "### Analysis questions\n",
    "1. Is the intrusion set \"Orangeworm\" a potential threat for the organization?\n",
    "2. In such a case, can we identify relevant courses of action to effectively mitigate the threat?\n"
   ]
  },
  {
   "cell_type": "markdown",
   "metadata": {},
   "source": [
    "## Prerequisites\n",
    "Load MITRE ATT&CK Enterprise using the ETL CLI of SATRAP as explained in the [user manual](/docs/manual/interfaces.md).\n",
    "\n",
    "## Preparation\n",
    "Set up the DB parameters and import the toolkit of SATRAP."
   ]
  },
  {
   "cell_type": "code",
   "execution_count": 3,
   "metadata": {},
   "outputs": [],
   "source": [
    "from satrap.service.satrap_analysis import CTIanalysisToolbox\n",
    "from satrap.settings import TYPEDB_SERVER_ADDRESS, DB_NAME\n",
    "\n",
    "satrap = CTIanalysisToolbox(TYPEDB_SERVER_ADDRESS, DB_NAME)"
   ]
  },
  {
   "cell_type": "markdown",
   "metadata": {},
   "source": [
    "## Investigation\n",
    "First, we do a quick search of [Orangeworm in ATT&CK](https://attack.mitre.org/groups/G0071/) to get an overview of the intrusion set. \n",
    "\n",
    "Highlights:\n",
    "- Orangeworm has targeted the healthcare sector in the United States, Europe, and Asia since at least 2015.\n",
    "- ID of Orangeworm in ATT&CK: `G0071`.\n",
    "\n",
    "**Answer 1:** We realize that G0071 poses indeed a potential risk for the hospital and thus further investigation is required.\n",
    "\n",
    "From now on, we can use the ID of Orangeworm to run some automated analysis operations."
   ]
  },
  {
   "cell_type": "markdown",
   "metadata": {},
   "source": [
    "### General information of Orangeworm\n",
    "\n",
    "We start by getting an overview of the group in our CTI SKB."
   ]
  },
  {
   "cell_type": "code",
   "execution_count": 4,
   "metadata": {},
   "outputs": [
    {
     "name": "stdout",
     "output_type": "stream",
     "text": [
      "Group: G0071\n",
      "+---------------------+---------------------------------------------------------+\n",
      "| Property            | Value                                                   |\n",
      "+=====================+=========================================================+\n",
      "| type                | intrusion-set                                           |\n",
      "+---------------------+---------------------------------------------------------+\n",
      "| created             | 2018-10-17 00:14                                        |\n",
      "+---------------------+---------------------------------------------------------+\n",
      "| alias               | Orangeworm                                              |\n",
      "+---------------------+---------------------------------------------------------+\n",
      "| stix-id             | intrusion-set--5636b7b3-d99b-4edd-aa05-ee649c1d4ef1     |\n",
      "+---------------------+---------------------------------------------------------+\n",
      "| modified            | 2024-04-10 21:33                                        |\n",
      "+---------------------+---------------------------------------------------------+\n",
      "| spec-version        | 2.1                                                     |\n",
      "+---------------------+---------------------------------------------------------+\n",
      "| description         | [Orangeworm](https://attack.mitre.org/groups/G0071) is  |\n",
      "|                     | a group that has targeted organizations in the          |\n",
      "|                     | healthcare sector in the United States, Europe, and     |\n",
      "|                     | Asia since at least 2015, likely for the purpose of     |\n",
      "|                     | corporate espionage.(Citation: Symantec Orangeworm      |\n",
      "|                     | April 2018) Reverse engineering of                      |\n",
      "|                     | [Kwampirs](https://attack.mitre.org/software/S0236),    |\n",
      "|                     | directly associated with                                |\n",
      "|                     | [Orangeworm](https://attack.mitre.org/groups/G0071)     |\n",
      "|                     | activity, indicates significant functional and          |\n",
      "|                     | development overlaps with [Shamoon](https://attack.mitr |\n",
      "|                     | e.org/software/S0140).(Citation: Cylera Kwampirs 2022)  |\n",
      "+---------------------+---------------------------------------------------------+\n",
      "| name                | Orangeworm                                              |\n",
      "+---------------------+---------------------------------------------------------+\n",
      "| revoked             | false                                                   |\n",
      "+---------------------+---------------------------------------------------------+\n",
      "| created-by          | The MITRE Corporation                                   |\n",
      "+---------------------+---------------------------------------------------------+\n",
      "| external-references | ['Cylera Kwampirs 2022', 'mitre-attack', 'Symantec      |\n",
      "| by                  | Orangeworm April 2018', 'Orangeworm']                   |\n",
      "+---------------------+---------------------------------------------------------+\n"
     ]
    }
   ],
   "source": [
    "try:\n",
    "\tt1 = satrap.get_attck_concept_info(\"G0071\")\n",
    "\tprint(\"Group: G0071\")\n",
    "\tfor data in t1:\n",
    "\t\tprint(CTIanalysisToolbox.tabulate_stix_obj(data))\n",
    "except Exception as error:\n",
    "\tprint(f\"{type(error).__name__}: {error}\")"
   ]
  },
  {
   "cell_type": "markdown",
   "metadata": {},
   "source": [
    "### What techniques does \"G0071\" use?\n",
    "\n",
    "To evaluate potential vulnerabilities, we try to get information concerning the techniques used by Orangeworm."
   ]
  },
  {
   "cell_type": "code",
   "execution_count": 5,
   "metadata": {},
   "outputs": [
    {
     "data": {
      "text/plain": [
       "{'attack-pattern--4f9ca633-15c5-463c-9724-bdcd54fde541': 'SMB/Windows Admin Shares',\n",
       " 'attack-pattern--df8b2a25-8bdf-4856-953c-a04372b1c161': 'Web Protocols'}"
      ]
     },
     "metadata": {},
     "output_type": "display_data"
    }
   ],
   "source": [
    "techniques = satrap.techniques_used_by_group(\"G0071\")\n",
    "display(techniques)"
   ]
  },
  {
   "cell_type": "markdown",
   "metadata": {},
   "source": [
    "We already knew about those techniques as they are directly listed in the previous ATT&CK link. So, we try to learn something more by activating the inference engine of SATRAP."
   ]
  },
  {
   "cell_type": "code",
   "execution_count": 6,
   "metadata": {},
   "outputs": [
    {
     "data": {
      "text/plain": [
       "{'attack-pattern--3e6831b2-bf4c-4ae6-b328-2e7c6633b291': 'Additional Local or Domain Groups',\n",
       " 'attack-pattern--5bfccc3f-2326-4112-86cc-c1ece9d8a2b5': 'Binary Padding',\n",
       " 'attack-pattern--3ccef7ae-cb5e-48f6-8302-897105fbf55c': 'Deobfuscate/Decode Files or Information',\n",
       " 'attack-pattern--21875073-b0ee-49e3-9077-1e2a885359af': 'Domain Account',\n",
       " 'attack-pattern--7610cada-1499-41a4-b3dd-46467b68d177': 'Domain Account',\n",
       " 'attack-pattern--2aed01ad-3df3-4410-a8cb-11ea4ded587c': 'Domain Groups',\n",
       " 'attack-pattern--0d91b3c0-5e50-47c3-949a-2a796f04d144': 'Encrypted/Encoded File',\n",
       " 'attack-pattern--f24faf46-3b26-4dbb-98f2-63460498e433': 'Fallback Channels',\n",
       " 'attack-pattern--d63a3fb8-9452-4e9d-a60a-54be68d5998c': 'File Deletion',\n",
       " 'attack-pattern--7bc57495-ea59-4380-be31-a64af124ef18': 'File and Directory Discovery',\n",
       " 'attack-pattern--e6919abc-99f9-4c6c-95a5-14761e7b2add': 'Ingress Tool Transfer',\n",
       " 'attack-pattern--bf90d72c-c00b-45e3-b3aa-68560560d4c5': 'Lateral Tool Transfer',\n",
       " 'attack-pattern--25659dd6-ea12-45c4-97e6-381e3e4b593e': 'Local Account',\n",
       " 'attack-pattern--635cbe30-392d-4e27-978e-66774357c762': 'Local Account',\n",
       " 'attack-pattern--a01bf75f-00b2-4568-a58f-565ff9bf202b': 'Local Groups',\n",
       " 'attack-pattern--7bdca9d5-d500-4d7d-8c52-5fd47baf4c0c': 'Masquerade Task or Service',\n",
       " 'attack-pattern--a750a9f6-0bde-4bb3-9aae-1e2786e9780c': 'Network Share Connection Removal',\n",
       " 'attack-pattern--3489cfc5-640f-4bb3-a103-9137b97de79f': 'Network Share Discovery',\n",
       " 'attack-pattern--b6075259-dba3-44e9-87c7-e954f37ec0d5': 'Password Policy Discovery',\n",
       " 'attack-pattern--8f4a33ec-8b1f-4b80-a2f6-642b2e479580': 'Process Discovery',\n",
       " 'attack-pattern--e358d692-23c0-4a31-9eb6-ecc13a8d7735': 'Remote System Discovery',\n",
       " 'attack-pattern--045d0922-2310-4e60-b5e4-3302302cb3c5': 'Rundll32',\n",
       " 'attack-pattern--4f9ca633-15c5-463c-9724-bdcd54fde541': 'SMB/Windows Admin Shares',\n",
       " 'attack-pattern--f1951e8a-500e-4a26-8803-76d95c4554b4': 'Service Execution',\n",
       " 'attack-pattern--354a7f88-63fb-41b5-a801-ce3b377b36f1': 'System Information Discovery',\n",
       " 'attack-pattern--707399d6-ab3e-4963-9315-d9d3818cd6a0': 'System Network Configuration Discovery',\n",
       " 'attack-pattern--7e150503-88e7-4861-866b-ff1ac82c4475': 'System Network Connections Discovery',\n",
       " 'attack-pattern--03d7999c-1f4c-42cc-8373-e7690d318104': 'System Owner/User Discovery',\n",
       " 'attack-pattern--322bad5a-1c49-4d23-ab79-76d641794afa': 'System Service Discovery',\n",
       " 'attack-pattern--f3c544dc-673c-4ef3-accb-53229f1ae077': 'System Time Discovery',\n",
       " 'attack-pattern--df8b2a25-8bdf-4856-953c-a04372b1c161': 'Web Protocols',\n",
       " 'attack-pattern--d1fcf083-a721-4223-aedf-bf8960798d62': 'Windows Command Shell',\n",
       " 'attack-pattern--2959d63f-73fd-46a1-abd2-109d7dcede32': 'Windows Service'}"
      ]
     },
     "metadata": {},
     "output_type": "display_data"
    }
   ],
   "source": [
    "techniques = satrap.techniques_used_by_group(\"G0071\", infer=True)\n",
    "display(techniques)"
   ]
  },
  {
   "cell_type": "markdown",
   "metadata": {},
   "source": [
    "SATRAP has indeed shown a larger list of techniques. And evidently we would like to find out the reason for these techniques to be associated with Orangeworm."
   ]
  },
  {
   "cell_type": "markdown",
   "metadata": {},
   "source": [
    "### Analyzing the association of techniques"
   ]
  },
  {
   "cell_type": "markdown",
   "metadata": {},
   "source": [
    "SATRAP can provide the explanation for all the techniques displayed in one go, however, we decide to go one by one to simplify the analysis and to prioritize the techniques that we consider more likely to be potential threats to our organization.\n",
    "\n",
    "For instance, we might be intrigued about why the technique $\\mathsf{\"Windows\\ Command\\ Shell\"}$ forms part of the list above, assuming that the organization's systems run primarily on Windows OS."
   ]
  },
  {
   "cell_type": "code",
   "execution_count": 7,
   "metadata": {},
   "outputs": [
    {
     "name": "stdout",
     "output_type": "stream",
     "text": [
      "Data inferred for query statement: { $usage (used:$technique, user:$group); $usage isa uses; }\n",
      "Applied rule: transitive-use\n",
      "Condition met: \n",
      "    use_yz: relationship--fb60b027-facd-4be2-b8b2-0fb9351ea235\n",
      "    name_y: cmd\n",
      "    use_xy: relationship--a8f41a5a-b6bd-4446-8f9d-22d0e7b4af74\n",
      "    x: (Orangeworm, intrusion-set--5636b7b3-d99b-4edd-aa05-ee649c1d4ef1)\n",
      "    y: (cmd, tool--bba595da-b73a-4354-aa6c-224d4de7cb4e)\n",
      "    name_z: Windows Command Shell\n",
      "    name_x: Orangeworm\n",
      "    z: (Windows Command Shell, attack-pattern--d1fcf083-a721-4223-aedf-bf8960798d62)\n",
      "Inferred conclusion: \n",
      "    z: (Windows Command Shell, attack-pattern--d1fcf083-a721-4223-aedf-bf8960798d62)\n",
      "    indirectly-uses:used: _RoleType[label: uses:used]\n",
      "    indirectly-uses: _RelationType[label: indirectly-uses]\n",
      "    _: _Relation[indirectly-uses:0x8470804d7ffffffffffffff5] (Inferred)\n",
      "    indirectly-uses:indirect-user: _RoleType[label: indirectly-uses:indirect-user]\n",
      "    x: (Orangeworm, intrusion-set--5636b7b3-d99b-4edd-aa05-ee649c1d4ef1)\n",
      "Mapping of variables (query var: rule var): \n",
      "    usage: {'_'}\n",
      "    group: {'x'}\n",
      "    technique: {'z'}\n",
      "\n"
     ]
    }
   ],
   "source": [
    "# explain all techniques\n",
    "# reason = satrap.explain_techniques_used_by_group(\"G0071\")\n",
    "reason = satrap.explain_techniques_used_by_group(\"G0071\", \"Windows Command Shell\")\n",
    "for tech in reason.explanations:\n",
    "\tprint(CTIanalysisToolbox.format_dict(tech.as_json()), end=\"\\n\")"
   ]
  },
  {
   "cell_type": "code",
   "execution_count": 8,
   "metadata": {},
   "outputs": [
    {
     "data": {
      "text/html": [
       "\n",
       "    <div style=\"background-color: #ADD8E6; border-left: 5px solid #000F81; padding: 10px;\">\n",
       "        <strong>Interpreting an explanation:</strong><br>\n",
       "        <p>\n",
       "    The explanation of inferred data (or a derivation) consists of five elements:\n",
       "\n",
       "    <ul>\n",
       "    <li><strong>Data inferred for query statement:</strong> refers to the statement in the query that is subject to explanation, as matching data is derived from the application of an inference rule</li>\n",
       "    <li><strong>Applied rule:</strong> the inference rule that was applied for the derivation.</li>\n",
       "    <li><strong>Condition met:</strong> shows how the rule's conditions are satisfied by instances in the CTI SKB.</li>\n",
       "    <li><strong>Inferred conclusion:</strong> is the result of the application of the rule.</li>\n",
       "    <li><strong>Mapping of variables:</strong> shows how the variables in the explained query statement map to the rule variables.</li>\n",
       "    </ul>\n",
       "    </p>\n",
       "    </div>\n",
       "    "
      ],
      "text/plain": [
       "<IPython.core.display.HTML object>"
      ]
     },
     "metadata": {},
     "output_type": "display_data"
    }
   ],
   "source": [
    "import resources.ipynb_utils as utils\n",
    "utils.info_explanation()"
   ]
  },
  {
   "cell_type": "markdown",
   "metadata": {},
   "source": [
    "As per the note above, the explanation output can be interpreted as follows:\n",
    "- The application of the inference rule called \"transitive-use\" resulted in the derivation of data satisfying the statement `{ $use (used:$technique, user:$group); $use isa uses; }` from the underlying query.\n",
    "- 'Orangeworm uses cmd' and 'cmd uses Windows Command Shell' are relations in the CTI SKB that meet the conditions for the application of \"transitive-use\".\n",
    "- The relation 'Orangeworm indirectly-uses Windows Command Shell' is derived as a result of applying the referred rule.\n"
   ]
  },
  {
   "cell_type": "markdown",
   "metadata": {},
   "source": [
    "### Mitigating \"Windows command shell\"\n",
    "\n",
    "Using the information that Orangeworm uses the technique \"Windows Command Shell\" via the tool \"cmd\", we first verify that \"cmd\" refers to the Windows CLI and then search for mititgations for this technique in SATRAP's knowledge base. To run the concerning SATRAP functions, we obtain the STIX ids from the explanation shown above."
   ]
  },
  {
   "cell_type": "code",
   "execution_count": 9,
   "metadata": {},
   "outputs": [
    {
     "name": "stdout",
     "output_type": "stream",
     "text": [
      "+---------------------+--------------------------------------------------------+\n",
      "| Property            | Value                                                  |\n",
      "+=====================+========================================================+\n",
      "| type                | tool                                                   |\n",
      "+---------------------+--------------------------------------------------------+\n",
      "| created             | 2017-05-31 21:33                                       |\n",
      "+---------------------+--------------------------------------------------------+\n",
      "| stix-id             | tool--bba595da-b73a-4354-aa6c-224d4de7cb4e             |\n",
      "+---------------------+--------------------------------------------------------+\n",
      "| modified            | 2022-10-13 20:24                                       |\n",
      "+---------------------+--------------------------------------------------------+\n",
      "| spec-version        | 2.1                                                    |\n",
      "+---------------------+--------------------------------------------------------+\n",
      "| description         | [cmd](https://attack.mitre.org/software/S0106) is the  |\n",
      "|                     | Windows command-line interpreter that can be used to   |\n",
      "|                     | interact with systems and execute other processes and  |\n",
      "|                     | utilities. (Citation: TechNet Cmd)  Cmd.exe contains   |\n",
      "|                     | native functionality to perform many operations to     |\n",
      "|                     | interact with the system, including listing files in a |\n",
      "|                     | directory (e.g., <code>dir</code> (Citation: TechNet   |\n",
      "|                     | Dir)), deleting files (e.g., <code>del</code>          |\n",
      "|                     | (Citation: TechNet Del)), and copying files (e.g.,     |\n",
      "|                     | <code>copy</code> (Citation: TechNet Copy)).           |\n",
      "+---------------------+--------------------------------------------------------+\n",
      "| name                | cmd                                                    |\n",
      "+---------------------+--------------------------------------------------------+\n",
      "| revoked             | false                                                  |\n",
      "+---------------------+--------------------------------------------------------+\n",
      "| created-by          | The MITRE Corporation                                  |\n",
      "+---------------------+--------------------------------------------------------+\n",
      "| external-references | ['mitre-attack', 'TechNet Copy', 'TechNet Cmd',        |\n",
      "| by                  | 'TechNet Dir', 'TechNet Del']                          |\n",
      "+---------------------+--------------------------------------------------------+\n"
     ]
    }
   ],
   "source": [
    "cmd = satrap.search_stix_object(\"tool--bba595da-b73a-4354-aa6c-224d4de7cb4e\")\n",
    "if cmd:\n",
    "\tprint(CTIanalysisToolbox.tabulate_stix_obj(cmd))"
   ]
  },
  {
   "cell_type": "code",
   "execution_count": 10,
   "metadata": {},
   "outputs": [
    {
     "data": {
      "text/plain": [
       "{'course-of-action--47e0e9fe-96ce-4f65-8bb1-8be1feacb5db': 'Execution Prevention'}"
      ]
     },
     "metadata": {},
     "output_type": "display_data"
    }
   ],
   "source": [
    "mitigations = satrap.mitigations_for_technique(\"attack-pattern--d1fcf083-a721-4223-aedf-bf8960798d62\")\n",
    "display(mitigations)"
   ]
  },
  {
   "cell_type": "markdown",
   "metadata": {},
   "source": [
    "At this point, we have identified a suggested course of action (detailed below) to address a specific threat posed by the group that we consider relevant.\n",
    "\n",
    "**Answer 2 (partial):** 'course-of-action--47e0e9fe-96ce-4f65-8bb1-8be1feacb5db': 'Execution Prevention'\n"
   ]
  },
  {
   "cell_type": "code",
   "execution_count": 11,
   "metadata": {},
   "outputs": [
    {
     "name": "stdout",
     "output_type": "stream",
     "text": [
      "+---------------------+---------------------------------------------------------+\n",
      "| Property            | Value                                                   |\n",
      "+=====================+=========================================================+\n",
      "| type                | course-of-action                                        |\n",
      "+---------------------+---------------------------------------------------------+\n",
      "| created             | 2019-06-11 16:35                                        |\n",
      "+---------------------+---------------------------------------------------------+\n",
      "| stix-id             | course-of-action--47e0e9fe-96ce-4f65-8bb1-8be1feacb5db  |\n",
      "+---------------------+---------------------------------------------------------+\n",
      "| modified            | 2024-10-17 18:53                                        |\n",
      "+---------------------+---------------------------------------------------------+\n",
      "| spec-version        | 2.1                                                     |\n",
      "+---------------------+---------------------------------------------------------+\n",
      "| description         | Block execution of code on a system through application |\n",
      "|                     | control, and/or script blocking.                        |\n",
      "+---------------------+---------------------------------------------------------+\n",
      "| name                | Execution Prevention                                    |\n",
      "+---------------------+---------------------------------------------------------+\n",
      "| revoked             | false                                                   |\n",
      "+---------------------+---------------------------------------------------------+\n",
      "| created-by          | The MITRE Corporation                                   |\n",
      "+---------------------+---------------------------------------------------------+\n",
      "| external-references | ['mitre-attack']                                        |\n",
      "| by                  |                                                         |\n",
      "+---------------------+---------------------------------------------------------+\n"
     ]
    }
   ],
   "source": [
    "mitigation = satrap.search_stix_object(\"course-of-action--47e0e9fe-96ce-4f65-8bb1-8be1feacb5db\")\n",
    "if mitigation:\n",
    "\tprint(CTIanalysisToolbox.tabulate_stix_obj(mitigation))"
   ]
  },
  {
   "cell_type": "markdown",
   "metadata": {},
   "source": [
    "#### Why is \"Domain Groups\" listed as a technique used by Orangeworm?"
   ]
  },
  {
   "cell_type": "markdown",
   "metadata": {},
   "source": [
    "More than one explanation path can lead to the association of a technique with a group, as in the case of $\\mathsf{Domain\\ Groups}$ for Orangeworm."
   ]
  },
  {
   "cell_type": "code",
   "execution_count": 12,
   "metadata": {},
   "outputs": [
    {
     "name": "stdout",
     "output_type": "stream",
     "text": [
      "Data inferred for query statement: { $usage (used:$technique, user:$group); $usage isa uses; }\n",
      "Applied rule: transitive-use\n",
      "Condition met: \n",
      "    name_y: Kwampirs\n",
      "    z: (Domain Groups, attack-pattern--2aed01ad-3df3-4410-a8cb-11ea4ded587c)\n",
      "    name_z: Domain Groups\n",
      "    x: (Orangeworm, intrusion-set--5636b7b3-d99b-4edd-aa05-ee649c1d4ef1)\n",
      "    use_yz: relationship--040ff1f7-493d-4762-a9bb-db143a971464\n",
      "    use_xy: relationship--36aad32e-5300-4db0-b5a2-8b7442123db1\n",
      "    name_x: Orangeworm\n",
      "    y: (Kwampirs, malware--c2417bab-3189-4d4d-9d60-96de2cdaf0ab)\n",
      "Inferred conclusion: \n",
      "    indirectly-uses: _RelationType[label: indirectly-uses]\n",
      "    _: _Relation[indirectly-uses:0x8470804d7ffffffffffffffe] (Inferred)\n",
      "    x: (Orangeworm, intrusion-set--5636b7b3-d99b-4edd-aa05-ee649c1d4ef1)\n",
      "    indirectly-uses:indirect-user: _RoleType[label: indirectly-uses:indirect-user]\n",
      "    z: (Domain Groups, attack-pattern--2aed01ad-3df3-4410-a8cb-11ea4ded587c)\n",
      "    indirectly-uses:used: _RoleType[label: uses:used]\n",
      "Mapping of variables (query var: rule var): \n",
      "    usage: {'_'}\n",
      "    group: {'x'}\n",
      "    technique: {'z'}\n",
      "\n",
      "Data inferred for query statement: { $usage (used:$technique, user:$group); $usage isa uses; }\n",
      "Applied rule: transitive-use\n",
      "Condition met: \n",
      "    z: (Domain Groups, attack-pattern--2aed01ad-3df3-4410-a8cb-11ea4ded587c)\n",
      "    y: (Net, tool--03342581-f790-4f03-ba41-e82e67392e23)\n",
      "    use_yz: relationship--0eb8fe0a-6a6b-4d66-b6ff-e1d7f8f18948\n",
      "    name_x: Orangeworm\n",
      "    use_xy: relationship--960d642d-a2f7-4b78-8363-fa94aff7bf86\n",
      "    x: (Orangeworm, intrusion-set--5636b7b3-d99b-4edd-aa05-ee649c1d4ef1)\n",
      "    name_z: Domain Groups\n",
      "    name_y: Net\n",
      "Inferred conclusion: \n",
      "    x: (Orangeworm, intrusion-set--5636b7b3-d99b-4edd-aa05-ee649c1d4ef1)\n",
      "    indirectly-uses: _RelationType[label: indirectly-uses]\n",
      "    indirectly-uses:used: _RoleType[label: uses:used]\n",
      "    _: _Relation[indirectly-uses:0x8470804d7ffffffffffffffe] (Inferred)\n",
      "    indirectly-uses:indirect-user: _RoleType[label: indirectly-uses:indirect-user]\n",
      "    z: (Domain Groups, attack-pattern--2aed01ad-3df3-4410-a8cb-11ea4ded587c)\n",
      "Mapping of variables (query var: rule var): \n",
      "    usage: {'_'}\n",
      "    group: {'x'}\n",
      "    technique: {'z'}\n",
      "\n"
     ]
    }
   ],
   "source": [
    "dg_explanation = satrap.explain_techniques_used_by_group(\"G0071\", \"Domain Groups\")\n",
    "for tech in dg_explanation.explanations:\n",
    "\tprint(CTIanalysisToolbox.format_dict(tech.as_json()), end=\"\\n\")"
   ]
  },
  {
   "cell_type": "markdown",
   "metadata": {},
   "source": [
    "For cases with multiple explanations, the textual explanation can be further clarified using the interactive Graph viewer of TypeDB Studio as explained in the [... section]() of SATRAP's user manual.\n",
    "\n",
    "We can obtain the query to execute in TypeDB Studio from the explanation result above:"
   ]
  },
  {
   "cell_type": "code",
   "execution_count": 13,
   "metadata": {},
   "outputs": [
    {
     "name": "stdout",
     "output_type": "stream",
     "text": [
      "match\n",
      "$exref isa external-reference, has source-name 'mitre-attack';\n",
      "$exref has external-id 'G0071';\n",
      "$group isa intrusion-set;\n",
      "$group has revoked false;\n",
      "(referrer:$group, referenced:$exref) isa external-referencing;\n",
      "$technique isa attack-pattern, has stix-id $id, has name 'Domain Groups';\n",
      "$usage (used: $technique, user: $group) isa uses;\n",
      "get;\n"
     ]
    }
   ],
   "source": [
    "print(dg_explanation.query)"
   ]
  },
  {
   "cell_type": "markdown",
   "metadata": {},
   "source": [
    "The next figure shows the explanation paths in TypeDB Studio detailing why \"Domain Gropus\" is a technique used by \"G0071\"; the relation \"indirectly-uses\" framed in green corresponds to the inferred relation. These paths correspond to the textual explanations previously displayed.\n",
    "\n",
    "<p align=\"center\">\n",
    "\t<img src=\"./resources/figs/tech-g0071-paths.png\" alt=\"Explanation traces in TypeDB Studio\" width=\"90%\">\n",
    "</p>"
   ]
  },
  {
   "cell_type": "markdown",
   "metadata": {},
   "source": [
    "In this graph, we can clearly see that the conclusion about the intrusion set \"Orangeworm\" using the attack pattern \"Domain Groups\" comes from the fact that it relies on the use of both, a tool called \"Net\" and the malware-family \"Kwampirs\", each of which in turn make use of \"Domain Groups\". "
   ]
  },
  {
   "cell_type": "markdown",
   "metadata": {},
   "source": [
    "### Which known mitigations are potentially relevant against \"G0071\"?\n",
    "\n",
    "Finally, to address more generally the initial analysis question 2, we are interested in identifying a set of mitigations that can be associated with Orangeworm because they address one of more of the techniques used by this group. This can be achieved as follows:"
   ]
  },
  {
   "cell_type": "code",
   "execution_count": 14,
   "metadata": {},
   "outputs": [
    {
     "data": {
      "text/plain": [
       "{'course-of-action--12241367-a8b7-49b4-b86e-2236901ba50c': 'Network Intrusion Prevention',\n",
       " 'course-of-action--9bb9e696-bff8-4ae1-9454-961fc7d91d5f': 'Privileged Account Management',\n",
       " 'course-of-action--1dcaeb21-9348-42ea-950a-f842aaf1ae1f': 'Limit Access to Resource Over Network',\n",
       " 'course-of-action--20f6a9df-37c4-4e20-9e47-025983b1b39d': 'Filter Network Traffic',\n",
       " 'course-of-action--90c218c3-fbf8-4830-98a7-e8cfb7eaa485': 'Password Policies',\n",
       " 'course-of-action--49961e75-b493-423a-9ec7-ac2d6f55384a': 'Password Policy Discovery Mitigation',\n",
       " 'course-of-action--684feec3-f9ba-4049-9d8f-52d52f3e0e40': 'System Network Configuration Discovery Mitigation',\n",
       " 'course-of-action--c1676218-c16a-41c9-8f7a-023779916e39': 'System Network Connections Discovery Mitigation',\n",
       " 'course-of-action--82d8e990-c901-4aed-8596-cc002e7eb307': 'System Time Discovery Mitigation',\n",
       " 'course-of-action--2f316f6c-ae42-44fe-adf8-150989e0f6d3': 'Operating System Configuration',\n",
       " 'course-of-action--2ace01f8-67c8-43eb-b7b1-a7b9f1fe67e1': 'File and Directory Discovery Mitigation',\n",
       " 'course-of-action--9a902722-cecd-4fbe-a6c9-49333aa0f8c2': 'Remote System Discovery Mitigation',\n",
       " 'course-of-action--d8787791-d22e-45bb-a9a8-251d8d0a1ff2': 'System Service Discovery Mitigation',\n",
       " 'course-of-action--d01f473f-3cdc-4867-9e55-1de9cf1986f0': 'Deobfuscate/Decode Files or Information Mitigation',\n",
       " 'course-of-action--1f34230d-b6ae-4dc7-8599-78c18820bd21': 'Network Share Discovery Mitigation',\n",
       " 'course-of-action--cdecc44a-1dbf-4c1f-881c-f21e3f47272a': 'Remote File Copy Mitigation',\n",
       " 'course-of-action--34efb2fd-4dc2-40d4-a564-0c147c85034d': 'File Deletion Mitigation',\n",
       " 'course-of-action--c620e3a1-fff5-424f-abea-d2b0f3616f67': 'System Information Discovery Mitigation',\n",
       " 'course-of-action--90f39ee1-d5a3-4aaa-9f28-3b42815b0d46': 'Behavior Prevention on Endpoint',\n",
       " 'course-of-action--cc2399fd-3cd3-4319-8d0a-fbd6420cdaf8': 'Audit',\n",
       " 'course-of-action--a6a47a06-08fc-4ec4-bdc3-20373375ebb9': 'Antivirus/Antimalware',\n",
       " 'course-of-action--590777b3-b475-4c7c-aaf8-f4a73b140312': 'Code Signing',\n",
       " 'course-of-action--93e7968a-9074-4eac-8ae9-9f5200ec3317': 'User Account Management',\n",
       " 'course-of-action--47e0e9fe-96ce-4f65-8bb1-8be1feacb5db': 'Execution Prevention',\n",
       " 'course-of-action--16f144e4-c780-4ed2-98b4-55d14e2dfa44': 'System Owner/User Discovery Mitigation',\n",
       " 'course-of-action--987988f0-cf86-4680-a875-2f6456ab2448': 'Restrict File and Directory Permissions',\n",
       " 'course-of-action--94e95eeb-7cdb-4bd7-afba-f32fda303dbb': 'Network Share Connection Removal Mitigation',\n",
       " 'course-of-action--b045d015-6bed-4490-bd38-56b41ece59a0': 'Multi-factor Authentication',\n",
       " 'course-of-action--d2a24649-9694-4c97-9c62-ce7b270bf6a3': 'Exploit Protection',\n",
       " 'course-of-action--f6469191-1814-4dbe-a081-2a6daf83a10b': 'Process Discovery Mitigation',\n",
       " 'course-of-action--515f6584-fa98-44fe-a4e8-e428c7188514': 'Fallback Channels Mitigation',\n",
       " 'course-of-action--86598de0-b347-4928-9eb0-0acbfc21908c': 'Network Segmentation'}"
      ]
     },
     "metadata": {},
     "output_type": "display_data"
    }
   ],
   "source": [
    "display(satrap.related_mitigations(group_name=\"Orangeworm\"))"
   ]
  },
  {
   "cell_type": "markdown",
   "metadata": {},
   "source": [
    "As before, we can get an explanation for why each of the listed mitigations are related to Orangeworm. For instance, we select to get an explanation for \"Restrict File and Directory Permissions\"."
   ]
  },
  {
   "cell_type": "code",
   "execution_count": 15,
   "metadata": {},
   "outputs": [
    {
     "name": "stdout",
     "output_type": "stream",
     "text": [
      "EXECUTED QUERY:\n",
      "match\n",
      "$intrusion-set isa intrusion-set, has stix-id 'intrusion-set--5636b7b3-d99b-4edd-aa05-ee649c1d4ef1', has name $group-name;\n",
      "$course-of-action isa course-of-action, has stix-id 'course-of-action--987988f0-cf86-4680-a875-2f6456ab2448', has name $mitigation-name;\n",
      "$r (source-role: $course-of-action, target-role: $intrusion-set) isa related-to;\n",
      "get;\n",
      "\n",
      "EXPLANATIONS:\n",
      "Data inferred for query statement: { $r (source-role:$course-of-action, target-role:$intrusion-set); $r isa related-to; }\n",
      "Applied rule: course-of-action-for-intrusion-set\n",
      "Condition met: \n",
      "    mitigation: relationship--d107e5fd-53fc-478d-9040-85087070d7ff\n",
      "    use: _Relation[indirectly-uses:0x8470804d7ffffffffffffde9] (Inferred)\n",
      "    sdo: (Service Execution, attack-pattern--f1951e8a-500e-4a26-8803-76d95c4554b4)\n",
      "    sdo_name: Service Execution\n",
      "    course-of-action: (Restrict File and Directory Permissions, course-of-action--987988f0-cf86-4680-a875-2f6456ab2448)\n",
      "    intrusion-set: (Orangeworm, intrusion-set--5636b7b3-d99b-4edd-aa05-ee649c1d4ef1)\n",
      "Inferred conclusion: \n",
      "    related-to:source-role: _RoleType[label: stix-relationship-object:source-role]\n",
      "    related-to:target-role: _RoleType[label: stix-relationship-object:target-role]\n",
      "    course-of-action: (Restrict File and Directory Permissions, course-of-action--987988f0-cf86-4680-a875-2f6456ab2448)\n",
      "    intrusion-set: (Orangeworm, intrusion-set--5636b7b3-d99b-4edd-aa05-ee649c1d4ef1)\n",
      "    related-to: _RelationType[label: related-to]\n",
      "    _: _Relation[related-to:0x8470802a7fffffffffffffff] (Inferred)\n",
      "Mapping of variables (query var: rule var): \n",
      "    course-of-action: {'course-of-action'}\n",
      "    intrusion-set: {'intrusion-set'}\n",
      "    r: {'_'}\n",
      "\n"
     ]
    }
   ],
   "source": [
    "try:\n",
    "\trel_explanation = satrap.explain_if_related_mitigation(\"G0071\", \"course-of-action--987988f0-cf86-4680-a875-2f6456ab2448\")\n",
    "\tprint(f\"EXECUTED QUERY:\\n{rel_explanation.query}\\n\")\n",
    "\tprint(\"EXPLANATIONS:\")\n",
    "\tfor tech in rel_explanation.explanations:\n",
    "\t\tprint(CTIanalysisToolbox.format_dict(tech.as_json()), end=\"\\n\")\n",
    "except ValueError as err:\n",
    "\tprint(err)"
   ]
  },
  {
   "cell_type": "markdown",
   "metadata": {},
   "source": [
    "And again, we can run the printed query in TypeDB Studio to visualize an interactive explanation."
   ]
  }
 ],
 "metadata": {
  "kernelspec": {
   "display_name": "satrap-e-0finHA-py3.11",
   "language": "python",
   "name": "python3"
  },
  "language_info": {
   "codemirror_mode": {
    "name": "ipython",
    "version": 3
   },
   "file_extension": ".py",
   "mimetype": "text/x-python",
   "name": "python",
   "nbconvert_exporter": "python",
   "pygments_lexer": "ipython3",
   "version": "3.11.0"
  }
 },
 "nbformat": 4,
 "nbformat_minor": 2
}
