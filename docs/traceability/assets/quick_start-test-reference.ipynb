{
 "cells": [
  {
   "cell_type": "code",
   "execution_count": null,
   "metadata": {},
   "outputs": [],
   "source": [
    "from satrap.service.satrap_analysis import CTIanalysisToolbox\n",
    "\n",
    "TYPEDB_SERVER = \"host.docker.internal:1729\"\n",
    "SKB = \"cti-skb-alpha\"\n",
    "\n",
    "satrap = CTIanalysisToolbox(TYPEDB_SERVER, SKB)\n"
   ]
  },
  {
   "cell_type": "markdown",
   "metadata": {},
   "source": [
    "Print the catalog of MITRE ATT&CK techniques and subtechniques. Subtechniques can be optionally removed."
   ]
  },
  {
   "cell_type": "code",
   "execution_count": null,
   "metadata": {},
   "outputs": [],
   "source": [
    "# print(satrap.mitre_attack_techniques(subtechniques=False))\n",
    "print(satrap.mitre_attack_techniques())\n"
   ]
  },
  {
   "cell_type": "code",
   "execution_count": null,
   "metadata": {},
   "outputs": [],
   "source": [
    "print(satrap.mitre_attack_mitigations())"
   ]
  },
  {
   "cell_type": "markdown",
   "metadata": {},
   "source": [
    "Get information on a technique using its MITRE ATT&CK id."
   ]
  },
  {
   "cell_type": "code",
   "execution_count": null,
   "metadata": {},
   "outputs": [],
   "source": [
    "t1 = satrap.get_attck_concept_info(\"T1059.003\")\n",
    "for data in t1:\n",
    "\tprint(CTIanalysisToolbox.tabulate_stix_obj(data))"
   ]
  },
  {
   "cell_type": "code",
   "execution_count": null,
   "metadata": {},
   "outputs": [],
   "source": [
    "print(satrap.get_sdo_stats())"
   ]
  },
  {
   "cell_type": "code",
   "execution_count": null,
   "metadata": {},
   "outputs": [],
   "source": [
    "try:\n",
    "\tsdo = satrap.search_stix_object(\"course-of-action--47e0e9fe-96ce-4f65-8bb1-8be1feacb5dbd\")\n",
    "\tprint(CTIanalysisToolbox.tabulate_stix_obj(sdo))\n",
    "except ValueError as e:\n",
    "\tprint(e)"
   ]
  },
  {
   "cell_type": "code",
   "execution_count": null,
   "metadata": {},
   "outputs": [],
   "source": [
    "reason = satrap.explain_related_techniques(\"ZIRCONIUM\", \"T1059.006\")\n",
    "print(f\"EXECUTED QUERY\\n{reason.query}\\n\")\n",
    "for tech in reason.explanations:\n",
    "\tprint(CTIanalysisToolbox.format_dict(tech.as_json()), end=\"\\n\")"
   ]
  }
 ],
 "metadata": {
  "kernelspec": {
   "display_name": "satrap-e-0finHA-py3.11",
   "language": "python",
   "name": "python3"
  },
  "language_info": {
   "codemirror_mode": {
    "name": "ipython",
    "version": 3
   },
   "file_extension": ".py",
   "mimetype": "text/x-python",
   "name": "python",
   "nbconvert_exporter": "python",
   "pygments_lexer": "ipython3",
   "version": "3.11.0"
  }
 },
 "nbformat": 4,
 "nbformat_minor": 2
}
