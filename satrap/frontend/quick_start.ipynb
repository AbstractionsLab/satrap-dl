{
 "cells": [
  {
   "cell_type": "markdown",
   "metadata": {},
   "source": [
    "# Quick start: SATRAP CTI analysis toolbox"
   ]
  },
  {
   "cell_type": "markdown",
   "metadata": {},
   "source": [
    "Import the SATRAP CTI analysis toolbox."
   ]
  },
  {
   "cell_type": "code",
   "execution_count": null,
   "metadata": {},
   "outputs": [],
   "source": [
    "from satrap.service.satrap_analysis import CTIanalysisToolbox\n",
    "from satrap.settings import TYPEDB_SERVER_ADDRESS, DB_NAME\n",
    "\n",
    "satrap = CTIanalysisToolbox(TYPEDB_SERVER_ADDRESS, DB_NAME)\n"
   ]
  },
  {
   "cell_type": "markdown",
   "metadata": {},
   "source": [
    "## Starting with simple functions"
   ]
  },
  {
   "cell_type": "markdown",
   "metadata": {},
   "source": [
    "Get the number of STIX Domain Objects (SDOs) in the knowledge base per STIX type."
   ]
  },
  {
   "cell_type": "code",
   "execution_count": null,
   "metadata": {},
   "outputs": [],
   "source": [
    "print(satrap.get_sdo_stats())"
   ]
  },
  {
   "cell_type": "markdown",
   "metadata": {},
   "source": [
    "Print the catalog of MITRE ATT&CK techniques and subtechniques. Subtechniques can be optionally filtered out."
   ]
  },
  {
   "cell_type": "code",
   "execution_count": null,
   "metadata": {},
   "outputs": [],
   "source": [
    "# print(satrap.mitre_attack_techniques(subtechniques=False))\n",
    "print(satrap.mitre_attack_techniques())\n"
   ]
  },
  {
   "cell_type": "markdown",
   "metadata": {},
   "source": [
    "Print the MITRE ATT&CK catalog of mitigations."
   ]
  },
  {
   "cell_type": "code",
   "execution_count": null,
   "metadata": {},
   "outputs": [],
   "source": [
    "print(satrap.mitre_attack_mitigations())"
   ]
  },
  {
   "cell_type": "markdown",
   "metadata": {},
   "source": [
    "Get information on a specific MITRE ATT&CK element (technique, group, software, etc.) using its MITRE ATT&CK id."
   ]
  },
  {
   "cell_type": "code",
   "execution_count": null,
   "metadata": {},
   "outputs": [],
   "source": [
    "try:\n",
    "\tt1 = satrap.get_attck_concept_info(\"T1027.001\")\n",
    "\tfor data in t1:\n",
    "\t\tprint(CTIanalysisToolbox.tabulate_stix_obj(data))\n",
    "except ValueError as exc:\n",
    "\tprint(exc)"
   ]
  },
  {
   "cell_type": "markdown",
   "metadata": {},
   "source": [
    "Get information about a STIX object using its STIX id."
   ]
  },
  {
   "cell_type": "code",
   "execution_count": null,
   "metadata": {},
   "outputs": [],
   "source": [
    "try:\n",
    "\tsdo = satrap.search_stix_object(\"campaign--0c259854-4044-4f6c-ac49-118d484b3e3b\")\n",
    "\tprint(CTIanalysisToolbox.tabulate_stix_obj(sdo))\n",
    "except ValueError as e:\n",
    "\tprint(e)"
   ]
  },
  {
   "cell_type": "markdown",
   "metadata": {},
   "source": [
    "Retrieve mitigations explicitly associated to a specific technique using its STIX id."
   ]
  },
  {
   "cell_type": "code",
   "execution_count": null,
   "metadata": {},
   "outputs": [],
   "source": [
    "mitigations = satrap.mitigations_for_technique(\"attack-pattern--d1fcf083-a721-4223-aedf-bf8960798d62\")\n",
    "display(mitigations)"
   ]
  },
  {
   "cell_type": "markdown",
   "metadata": {},
   "source": [
    "## CTI analysis through automated reasoning"
   ]
  },
  {
   "cell_type": "markdown",
   "metadata": {},
   "source": [
    "The following functions use the inference engine to draw relations on the data explicitly stored in the knowledge base. For some of them, the use of inference is optional."
   ]
  },
  {
   "cell_type": "markdown",
   "metadata": {},
   "source": [
    "Get statistics on the usage of ATT&CK techniques by groups. The output of this function is the same as when running the command `satrap techniques` on the CLI."
   ]
  },
  {
   "cell_type": "code",
   "execution_count": null,
   "metadata": {},
   "outputs": [],
   "source": [
    "# Run without the use of the inference engine\n",
    "try:\n",
    "\tprint(\"( MITRE ATT&CK technique, Name, Used by (num. intrusion sets) )\")\n",
    "\tdisplay(satrap.techniques_usage())\n",
    "except Exception as err:\n",
    "\tprint(err)"
   ]
  },
  {
   "cell_type": "code",
   "execution_count": null,
   "metadata": {},
   "outputs": [],
   "source": [
    "# Run using the inference engine\n",
    "try:\n",
    "\tprint(\"( MITRE ATT&CK technique, Name, Used by (num. intrusion sets) )\")\n",
    "\tdisplay(satrap.techniques_usage(infer=True))\n",
    "except Exception as err:\n",
    "\tprint(err)"
   ]
  },
  {
   "cell_type": "markdown",
   "metadata": {},
   "source": [
    "Get the techniques used by a specific group. Optionally enable inference."
   ]
  },
  {
   "cell_type": "code",
   "execution_count": null,
   "metadata": {},
   "outputs": [],
   "source": [
    "techniques = satrap.techniques_used_by_group(\"G0025\", infer=True)\n",
    "display(techniques)"
   ]
  },
  {
   "cell_type": "markdown",
   "metadata": {},
   "source": [
    "Obtain the set of courses of action found to mitigate any of the techniques used by a specific group."
   ]
  },
  {
   "cell_type": "code",
   "execution_count": null,
   "metadata": {},
   "outputs": [],
   "source": [
    "display(satrap.related_mitigations(group_name=\"BlackTech\"))"
   ]
  },
  {
   "cell_type": "markdown",
   "metadata": {},
   "source": [
    "### Explanation of inferred knowledge"
   ]
  },
  {
   "cell_type": "markdown",
   "metadata": {},
   "source": [
    "**Hint:** The outcome of an explanation includes the underlying query that was executed by the function. For an interactive visual explanation, we suggest to copy and run the query in TypeDB Studio as explained in the user manual (at `docs/manual/interfaces.md`)."
   ]
  },
  {
   "cell_type": "markdown",
   "metadata": {},
   "source": [
    "Obtain an explanation for why (and if) a given mitigation is found to address the techniques used by a group. This function can be used to explain individual courses of action in the output of `related_mitigations` shown above.\n",
    "\n",
    "For instance, to know why \"Remote Data Storage\" is found to be a course of action against \"BlackTech\":"
   ]
  },
  {
   "cell_type": "code",
   "execution_count": null,
   "metadata": {},
   "outputs": [],
   "source": [
    "try:\n",
    "\trel_explanation = satrap.explain_if_related_mitigation(\"G0098\", \"course-of-action--20a2baeb-98c2-4901-bad7-dc62d0a03dea\")\n",
    "\tprint(f\"EXECUTED QUERY:\\n{rel_explanation.query}\\n\")\n",
    "\tprint(\"EXPLANATIONS:\")\n",
    "\tfor tech in rel_explanation.explanations:\n",
    "\t\tprint(CTIanalysisToolbox.format_dict(tech.as_json()), end=\"\\n\")\n",
    "except ValueError as err:\n",
    "\tprint(err)"
   ]
  },
  {
   "cell_type": "markdown",
   "metadata": {},
   "source": [
    "Obtain relevant courses of action for a given intrusion set, when considering the mitigation of a specific SDO (usually technique).\n",
    "\n",
    "E.g., What mitigations can we find against \"ZIRCONIUM\" that specifically address the technique \"T1059.006\"?"
   ]
  },
  {
   "cell_type": "code",
   "execution_count": null,
   "metadata": {},
   "outputs": [],
   "source": [
    "try:\n",
    "\treason = satrap.explain_related_techniques(\"ZIRCONIUM\", \"T1059.006\")\n",
    "\tprint(f\"EXECUTED QUERY\\n{reason.query}\\n\")\n",
    "\tfor tech in reason.explanations:\n",
    "\t\tprint(CTIanalysisToolbox.format_dict(tech.as_json()), end=\"\\n\")\n",
    "except Exception as exc:\n",
    "\tprint(exc)"
   ]
  },
  {
   "cell_type": "markdown",
   "metadata": {},
   "source": [
    "Find out, with an explanation, the set of techniques used by a specific group. Optionally filter to get the explanation of a specific technique."
   ]
  },
  {
   "cell_type": "code",
   "execution_count": null,
   "metadata": {},
   "outputs": [],
   "source": [
    "try:\n",
    "\tdg_explanation = satrap.explain_techniques_used_by_group(\"G0071\", \"Domain Groups\")\n",
    "\tfor tech in dg_explanation.explanations:\n",
    "\t\tprint(CTIanalysisToolbox.format_dict(tech.as_json()), end=\"\\n\")\n",
    "except Exception as err:\n",
    "\tprint(err)"
   ]
  }
 ],
 "metadata": {
  "kernelspec": {
   "display_name": "satrap-e-0finHA-py3.11",
   "language": "python",
   "name": "python3"
  },
  "language_info": {
   "codemirror_mode": {
    "name": "ipython",
    "version": 3
   },
   "file_extension": ".py",
   "mimetype": "text/x-python",
   "name": "python",
   "nbconvert_exporter": "python",
   "pygments_lexer": "ipython3",
   "version": "3.11.0"
  }
 },
 "nbformat": 4,
 "nbformat_minor": 2
}
